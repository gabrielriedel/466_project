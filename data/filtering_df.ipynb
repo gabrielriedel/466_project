{
 "cells": [
  {
   "cell_type": "code",
   "execution_count": 8,
   "id": "86f17a9d",
   "metadata": {},
   "outputs": [],
   "source": [
    "import pandas as pd"
   ]
  },
  {
   "cell_type": "code",
   "execution_count": 9,
   "id": "da2f0022",
   "metadata": {},
   "outputs": [],
   "source": [
    "df = pd.read_csv('cp_all_pitches.csv')"
   ]
  },
  {
   "cell_type": "code",
   "execution_count": 10,
   "id": "898c92f5",
   "metadata": {},
   "outputs": [
    {
     "data": {
      "text/html": [
       "<div>\n",
       "<style scoped>\n",
       "    .dataframe tbody tr th:only-of-type {\n",
       "        vertical-align: middle;\n",
       "    }\n",
       "\n",
       "    .dataframe tbody tr th {\n",
       "        vertical-align: top;\n",
       "    }\n",
       "\n",
       "    .dataframe thead th {\n",
       "        text-align: right;\n",
       "    }\n",
       "</style>\n",
       "<table border=\"1\" class=\"dataframe\">\n",
       "  <thead>\n",
       "    <tr style=\"text-align: right;\">\n",
       "      <th></th>\n",
       "      <th>RelSpeed</th>\n",
       "      <th>InducedVertBreak</th>\n",
       "      <th>HorzBreak</th>\n",
       "      <th>SpinRate</th>\n",
       "      <th>Tilt</th>\n",
       "      <th>TaggedPitchType</th>\n",
       "    </tr>\n",
       "  </thead>\n",
       "  <tbody>\n",
       "    <tr>\n",
       "      <th>0</th>\n",
       "      <td>87.18190</td>\n",
       "      <td>14.38265</td>\n",
       "      <td>-4.83126</td>\n",
       "      <td>2045.342795</td>\n",
       "      <td>11.15</td>\n",
       "      <td>Fastball</td>\n",
       "    </tr>\n",
       "    <tr>\n",
       "      <th>1</th>\n",
       "      <td>87.84622</td>\n",
       "      <td>21.74119</td>\n",
       "      <td>10.24571</td>\n",
       "      <td>2200.511334</td>\n",
       "      <td>1.00</td>\n",
       "      <td>Fastball</td>\n",
       "    </tr>\n",
       "    <tr>\n",
       "      <th>2</th>\n",
       "      <td>87.35602</td>\n",
       "      <td>19.03017</td>\n",
       "      <td>14.82997</td>\n",
       "      <td>2176.408546</td>\n",
       "      <td>1.15</td>\n",
       "      <td>Fastball</td>\n",
       "    </tr>\n",
       "    <tr>\n",
       "      <th>3</th>\n",
       "      <td>87.96588</td>\n",
       "      <td>17.11847</td>\n",
       "      <td>15.07520</td>\n",
       "      <td>2311.471220</td>\n",
       "      <td>1.30</td>\n",
       "      <td>Fastball</td>\n",
       "    </tr>\n",
       "    <tr>\n",
       "      <th>4</th>\n",
       "      <td>86.99718</td>\n",
       "      <td>21.67887</td>\n",
       "      <td>11.73820</td>\n",
       "      <td>2243.126279</td>\n",
       "      <td>1.00</td>\n",
       "      <td>Fastball</td>\n",
       "    </tr>\n",
       "  </tbody>\n",
       "</table>\n",
       "</div>"
      ],
      "text/plain": [
       "   RelSpeed  InducedVertBreak  HorzBreak     SpinRate   Tilt TaggedPitchType\n",
       "0  87.18190          14.38265   -4.83126  2045.342795  11.15        Fastball\n",
       "1  87.84622          21.74119   10.24571  2200.511334   1.00        Fastball\n",
       "2  87.35602          19.03017   14.82997  2176.408546   1.15        Fastball\n",
       "3  87.96588          17.11847   15.07520  2311.471220   1.30        Fastball\n",
       "4  86.99718          21.67887   11.73820  2243.126279   1.00        Fastball"
      ]
     },
     "execution_count": 10,
     "metadata": {},
     "output_type": "execute_result"
    }
   ],
   "source": [
    "df.head()"
   ]
  },
  {
   "cell_type": "code",
   "execution_count": 11,
   "id": "07d5310e",
   "metadata": {},
   "outputs": [
    {
     "data": {
      "text/plain": [
       "TaggedPitchType\n",
       "Fastball            3026\n",
       "ChangeUp             815\n",
       "Cutter               620\n",
       "Slider               536\n",
       "Curveball            382\n",
       "Sinker               107\n",
       "FourSeamFastBall      27\n",
       "TwoSeamFastBall       16\n",
       "Sweeper               15\n",
       "Splitter               2\n",
       "Other                  1\n",
       "Undefined              1\n",
       "Name: count, dtype: int64"
      ]
     },
     "execution_count": 11,
     "metadata": {},
     "output_type": "execute_result"
    }
   ],
   "source": [
    "df['TaggedPitchType'].value_counts()"
   ]
  },
  {
   "cell_type": "code",
   "execution_count": 12,
   "id": "95b20ef1",
   "metadata": {},
   "outputs": [],
   "source": [
    "df = df[df['TaggedPitchType'].isin(['Fastball', 'ChangeUp', 'Cutter', 'Slider', 'Curveball'])]"
   ]
  },
  {
   "cell_type": "code",
   "execution_count": 13,
   "id": "bdbc5753",
   "metadata": {},
   "outputs": [
    {
     "data": {
      "text/plain": [
       "TaggedPitchType\n",
       "Fastball     3026\n",
       "ChangeUp      815\n",
       "Cutter        620\n",
       "Slider        536\n",
       "Curveball     382\n",
       "Name: count, dtype: int64"
      ]
     },
     "execution_count": 13,
     "metadata": {},
     "output_type": "execute_result"
    }
   ],
   "source": [
    "df['TaggedPitchType'].value_counts()"
   ]
  },
  {
   "cell_type": "code",
   "execution_count": 14,
   "id": "b64c39d7",
   "metadata": {},
   "outputs": [],
   "source": [
    "df.to_csv('updated_pitches.csv', index=False)"
   ]
  }
 ],
 "metadata": {
  "kernelspec": {
   "display_name": "Python 3",
   "language": "python",
   "name": "python3"
  },
  "language_info": {
   "codemirror_mode": {
    "name": "ipython",
    "version": 3
   },
   "file_extension": ".py",
   "mimetype": "text/x-python",
   "name": "python",
   "nbconvert_exporter": "python",
   "pygments_lexer": "ipython3",
   "version": "3.10.4"
  }
 },
 "nbformat": 4,
 "nbformat_minor": 5
}
